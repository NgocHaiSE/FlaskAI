{
 "cells": [
  {
   "cell_type": "code",
   "execution_count": 12,
   "metadata": {},
   "outputs": [
    {
     "name": "stdout",
     "output_type": "stream",
     "text": [
      "Status Code: 400\n",
      "Response: more than 1 face in img\n"
     ]
    }
   ],
   "source": [
    "import requests\n",
    "\n",
    "# Đường dẫn đến file ảnh muốn upload\n",
    "file_path = 'test/3.jpg'\n",
    "\n",
    "# URL của API Flask\n",
    "url = 'http://localhost:5000/upload-face'  # Thay bằng URL của API nếu khác\n",
    "\n",
    "# Tạo payload với file\n",
    "files = {'file': open(file_path, 'rb')}\n",
    "\n",
    "# Gửi yêu cầu POST\n",
    "response = requests.post(url, files=files)\n",
    "\n",
    "# In ra phản hồi từ server\n",
    "print(f\"Status Code: {response.status_code}\")\n",
    "print(f\"Response: {response.text}\")\n"
   ]
  },
  {
   "cell_type": "code",
   "execution_count": 43,
   "metadata": {},
   "outputs": [
    {
     "name": "stdout",
     "output_type": "stream",
     "text": [
      "Status Code: 200\n",
      "Response: start camera 3 successfully\n"
     ]
    }
   ],
   "source": [
    "import requests\n",
    "\n",
    "\n",
    "# URL của API Flask\n",
    "url = 'http://localhost:8000/start/3'  # Thay bằng URL của API nếu khác\n",
    "\n",
    "\n",
    "# Gửi yêu cầu POST\n",
    "response = requests.get(url)\n",
    "\n",
    "# In ra phản hồi từ server\n",
    "print(f\"Status Code: {response.status_code}\")\n",
    "print(f\"Response: {response.text}\")"
   ]
  },
  {
   "cell_type": "code",
   "execution_count": 29,
   "metadata": {},
   "outputs": [
    {
     "name": "stdout",
     "output_type": "stream",
     "text": [
      "Status Code: 200\n",
      "Response: Đã kết thúc tiến trình 3\n"
     ]
    }
   ],
   "source": [
    "import requests\n",
    "\n",
    "\n",
    "# URL của API Flask\n",
    "url = 'http://localhost:8000/stop/3'  # Thay bằng URL của API nếu khác\n",
    "\n",
    "\n",
    "# Gửi yêu cầu POST\n",
    "response = requests.get(url)\n",
    "\n",
    "# In ra phản hồi từ server\n",
    "print(f\"Status Code: {response.status_code}\")\n",
    "print(f\"Response: {response.text}\")"
   ]
  },
  {
   "cell_type": "code",
   "execution_count": 11,
   "metadata": {},
   "outputs": [
    {
     "name": "stdout",
     "output_type": "stream",
     "text": [
      "Status Code: 200\n",
      "Response: [\"3\"]\n",
      "\n"
     ]
    }
   ],
   "source": [
    "import requests\n",
    "\n",
    "\n",
    "# URL của API Flask\n",
    "url = 'http://localhost:8000/getall'  # Thay bằng URL của API nếu khác\n",
    "\n",
    "\n",
    "# Gửi yêu cầu POST\n",
    "response = requests.get(url)\n",
    "\n",
    "# In ra phản hồi từ server\n",
    "print(f\"Status Code: {response.status_code}\")\n",
    "print(f\"Response: {response.text}\")"
   ]
  },
  {
   "cell_type": "code",
   "execution_count": 15,
   "metadata": {},
   "outputs": [
    {
     "name": "stdout",
     "output_type": "stream",
     "text": [
      "Status Code: 200\n",
      "Response: 1 Tiến trình đã được tắt\n"
     ]
    }
   ],
   "source": [
    "import requests\n",
    "\n",
    "\n",
    "# URL của API Flask\n",
    "url = 'http://localhost:8000/stopall'  # Thay bằng URL của API nếu khác\n",
    "\n",
    "\n",
    "# Gửi yêu cầu POST\n",
    "response = requests.get(url)\n",
    "\n",
    "# In ra phản hồi từ server\n",
    "print(f\"Status Code: {response.status_code}\")\n",
    "print(f\"Response: {response.text}\")"
   ]
  }
 ],
 "metadata": {
  "kernelspec": {
   "display_name": "DACam",
   "language": "python",
   "name": "python3"
  },
  "language_info": {
   "codemirror_mode": {
    "name": "ipython",
    "version": 3
   },
   "file_extension": ".py",
   "mimetype": "text/x-python",
   "name": "python",
   "nbconvert_exporter": "python",
   "pygments_lexer": "ipython3",
   "version": "3.8.19"
  }
 },
 "nbformat": 4,
 "nbformat_minor": 2
}
